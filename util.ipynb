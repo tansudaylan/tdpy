{
 "cells": [
  {
   "cell_type": "code",
   "execution_count": 1,
   "metadata": {
    "collapsed": true
   },
   "outputs": [],
   "source": [
    "# math\n",
    "from numpy import *\n",
    "from numpy.random import *\n",
    "from numpy.random import choice\n",
    "from scipy.integrate import *\n",
    "from scipy.interpolate import *\n",
    "import scipy as sp\n",
    "\n",
    "import pyfits as pf\n",
    "\n",
    "# astro & healpix\n",
    "import healpy as hp\n",
    "\n",
    "# utilities\n",
    "import sh, os"
   ]
  },
  {
   "cell_type": "code",
   "execution_count": 2,
   "metadata": {
    "collapsed": false
   },
   "outputs": [],
   "source": [
    "def retr_nfwp(nfwg, numbside, norm=None):\n",
    "    \n",
    "    edenlocl = 0.3 # [GeV/cm^3]\n",
    "    radilocl = 8.5 # [kpc]\n",
    "    rscl = 23.1 # [kpc]\n",
    "    \n",
    "    nradi = 100\n",
    "    minmradi = 1e-2\n",
    "    maxmradi = 1e2\n",
    "    radi = logspace(log10(minmradi), log10(maxmradi), nradi)\n",
    "    \n",
    "    nsadi = 100\n",
    "    minmsadi = 0.\n",
    "    maxmsadi = 2. * radilocl\n",
    "    sadi = linspace(minmsadi, maxmsadi, nsadi)\n",
    "    \n",
    "\n",
    "    lghp, bghp, numbside, numbpixl, apix = retr_healgrid(numbside)\n",
    "    \n",
    "    cosigahp = cos(deg2rad(lghp)) * cos(deg2rad(bghp))\n",
    "    gahp = rad2deg(arccos(cosigahp))\n",
    "    \n",
    "    eden = 1. / (radi / rscl)**nfwg / (1. + radi / rscl)**(3. - nfwg)\n",
    "    eden *= edenlocl / interp1d(radi, eden)(radilocl)\n",
    "    \n",
    "    edengrid = zeros((nsadi, numbpixl))\n",
    "    for i in range(nsadi):\n",
    "        radigrid = sqrt(radilocl**2 + sadi[i]**2 - 2 * radilocl * sadi[i] * cosigahp)\n",
    "        edengrid[i, :] = interp1d(radi, eden)(radigrid)\n",
    "\n",
    "\n",
    "    edengridtotl = sum(edengrid**2, axis=0)\n",
    "\n",
    "    if norm != None:\n",
    "        jgahp = argsort(gahp)\n",
    "        edengridtotl /= interp1d(gahp[jgahp], edengridtotl[jgahp])(5.)\n",
    "        \n",
    "        \n",
    "    return edengridtotl\n"
   ]
  },
  {
   "cell_type": "code",
   "execution_count": 3,
   "metadata": {
    "collapsed": true
   },
   "outputs": [],
   "source": [
    "def mexp(numb):\n",
    "    logn = log10(numb)\n",
    "    expo = floor(logn)\n",
    "    mant = 10**(logn - expo)\n",
    "    \n",
    "    if numb > 1e2 or numb < 1e-2:\n",
    "        if mant == 1.:\n",
    "            strg = r'$10^{%d}$' % expo\n",
    "        else:\n",
    "            strg = r'$%.3g \\times 10^{%d}$' % (mant, expo)\n",
    "    else:\n",
    "        strg = '%.3g' % numb\n",
    "\n",
    "    return strg"
   ]
  },
  {
   "cell_type": "code",
   "execution_count": 4,
   "metadata": {
    "collapsed": false
   },
   "outputs": [],
   "source": [
    "def retr_p4dm_spec(anch, part='el'):\n",
    "    \n",
    "    if part == 'el':\n",
    "        strg = 'AtProduction_positrons'\n",
    "    if part == 'ph':\n",
    "        strg = 'AtProduction_gammas'\n",
    "\n",
    "    name = os.environ[\"TDPY_UTIL_DATA_PATH\"] + '/p4dm/' + strg + '.dat'\n",
    "    p4dm = loadtxt(name)\n",
    "    \n",
    "    p4dm[:, 0] *= 1e3 # [MeV]\n",
    "    \n",
    "    mass = unique(p4dm[:, 0])\n",
    "    nmass = mass.size\n",
    "    numbener = p4dm.shape[0] / nmass\n",
    "    \n",
    "    mult = zeros((numbener, nmass))\n",
    "    for k in range(nmass):\n",
    "        jp4dm = where(abs(p4dm[:, 0] - mass[k]) == 0)[0]\n",
    "\n",
    "        if anch == 'e':\n",
    "            mult[:, k] = p4dm[jp4dm, 4]\n",
    "        if anch == 'mu':\n",
    "            mult[:, k] = p4dm[jp4dm, 7]\n",
    "        if anch == 'tau':\n",
    "            mult[:, k] = p4dm[jp4dm, 10]\n",
    "        if anch == 'b':\n",
    "            mult[:, k] = p4dm[jp4dm, 13]\n",
    "        \n",
    "    enerscal = 10**p4dm[jp4dm, 1]\n",
    "\n",
    "    return mult, enerscal, mass"
   ]
  },
  {
   "cell_type": "code",
   "execution_count": 5,
   "metadata": {
    "collapsed": false
   },
   "outputs": [],
   "source": [
    "def show_prog(cntr, maxmcntr, thiscntr, nprog=20, jproc=None):\n",
    "\n",
    "    nextcntr = int(nprog * float(cntr + 1) / maxmcntr) * 100 / nprog\n",
    "    if nextcntr > thiscntr:\n",
    "        if jproc != None:\n",
    "            print 'Process %d is %3d%% completed.' % (jproc, nextcntr)\n",
    "        else:\n",
    "            print '%3d%% completed.' % nextcntr\n",
    "        thiscntr = nextcntr\n",
    "        \n",
    "    return thiscntr            "
   ]
  },
  {
   "cell_type": "code",
   "execution_count": 6,
   "metadata": {
    "collapsed": false
   },
   "outputs": [],
   "source": [
    "def show_memo():\n",
    "    \n",
    "    memo = float(sh.awk(sh.ps('u', '-p', os.getpid()),'{sum=sum+$6}; END {print sum/1024}'))\n",
    "    \n",
    "    print '%.3g MB is being used.' % memo\n",
    "    "
   ]
  },
  {
   "cell_type": "code",
   "execution_count": 7,
   "metadata": {
    "collapsed": false
   },
   "outputs": [],
   "source": [
    "def cart_heal(cart, minmlgal=-180., maxmlgal=180., minmbgal=-90., maxmbgal=90., nest=False, numbside=256):\n",
    "    \n",
    "    nbgcr = cart.shape[0]\n",
    "    nlgcr = cart.shape[1]\n",
    "    lghp, bghp, numbside, numbpixl, apix = retr_healgrid(numbside)\n",
    "    heal = zeros(numbpixl)\n",
    "    jpixl = where((minmlgal < lghp) & (lghp < maxmlgal) & (minmbgal < bghp) & (bghp < maxmbgal))[0]\n",
    "    jlgcr = (nlgcr * (lghp[jpixl] - minmlgal) / (maxmlgal - minmlgal)).astype(int)\n",
    "    jbgcr = (nbgcr * (bghp[jpixl] - minmbgal) / (maxmbgal - minmbgal)).astype(int)\n",
    "    \n",
    "    heal[jpixl] = fliplr(cart)[jbgcr, jlgcr]\n",
    "    \n",
    "    return heal"
   ]
  },
  {
   "cell_type": "code",
   "execution_count": 8,
   "metadata": {
    "collapsed": false
   },
   "outputs": [],
   "source": [
    "def retr_healgrid(numbside):\n",
    "    \n",
    "    numbpixl = 12 * numbside**2\n",
    "    apix = 4. * pi / numbpixl # [sr]\n",
    "    thhp, phhp = hp.pixelfunc.pix2ang(numbside, arange(numbpixl), nest=False) # [rad]\n",
    "    lghp = ((rad2deg(phhp) - 180.) % 360.) - 180. # [deg]\n",
    "    bghp = 90. - rad2deg(thhp) # [deg]\n",
    "\n",
    "    return lghp, bghp, numbside, numbpixl, apix"
   ]
  },
  {
   "cell_type": "code",
   "execution_count": 9,
   "metadata": {
    "collapsed": true
   },
   "outputs": [],
   "source": [
    "def retr_cart(hmap, indxpixlrofi=None, numbsideinpt=None, \\\n",
    "              minmlgal=-180., maxmlgal=180., minmbgal=-90., maxmbgal=90., nest=False, reso=0.1):\n",
    "    \n",
    "    if indxpixlrofi == None:\n",
    "        numbpixlinpt = hmap.size\n",
    "        numbsideinpt = int(sqrt(numbpixlinpt / 12.))\n",
    "    else:\n",
    "        numbpixlinpt = numbsideinpt**2 * 12\n",
    "    \n",
    "    deltlgcr = maxmlgal - minmlgal\n",
    "    numbbinslgcr = int(deltlgcr / reso)\n",
    "    \n",
    "    deltbgcr = maxmbgal - minmbgal\n",
    "    numbbinsbgcr = int(deltbgcr / reso)\n",
    "    \n",
    "    lgcr = linspace(minmlgal, maxmlgal, numbbinslgcr)\n",
    "    ilgcr = arange(numbbinslgcr)\n",
    "    \n",
    "    bgcr = linspace(minmbgal, maxmbgal, numbbinsbgcr)\n",
    "    ibgcr = arange(numbbinsbgcr)\n",
    "    \n",
    "    lghp, bghp, numbside, numbpixl, apix = retr_healgrid(numbsideinpt)\n",
    "\n",
    "    bgcrmesh, lgcrmesh = meshgrid(bgcr, lgcr)\n",
    "    \n",
    "    jpixl = hp.ang2pix(numbsideinpt, pi / 2. - deg2rad(bgcrmesh), deg2rad(lgcrmesh))\n",
    "    \n",
    "    if indxpixlrofi == None:\n",
    "        kpixl = jpixl\n",
    "    else:\n",
    "        pixlcnvt = zeros(numbpixlinpt, dtype=int)\n",
    "        for k in range(indxpixlrofi.size):\n",
    "            pixlcnvt[indxpixlrofi[k]] = k\n",
    "        kpixl = pixlcnvt[jpixl]\n",
    "\n",
    "    hmapcart = zeros((numbbinsbgcr, numbbinslgcr))\n",
    "    hmapcart[meshgrid(ibgcr, ilgcr)] = hmap[kpixl]\n",
    "\n",
    "    return hmapcart"
   ]
  },
  {
   "cell_type": "code",
   "execution_count": 10,
   "metadata": {
    "collapsed": false
   },
   "outputs": [],
   "source": [
    "def retr_fdfm(binsener, numbside=256, vfdm=7):                    \n",
    "    \n",
    "    diffener = binsener[1:] - binsener[0:-1]\n",
    "    numbener = diffener.size\n",
    "    \n",
    "    path = os.environ[\"PNTS_TRAN_DATA_PATH\"] + '/'\n",
    "\n",
    "    numbpixl = numbside**2 * 12\n",
    "    \n",
    "    if vfdm == 2:\n",
    "        path += 'gll_iem_v02.fit'\n",
    "    if vfdm == 3:\n",
    "        path += 'gll_iem_v02_P6_V11_DIFFUSE.fit'\n",
    "    if vfdm == 4:\n",
    "        path += 'gal_2yearp7v6_v0.fits'\n",
    "    if vfdm == 5:\n",
    "        path += 'gll_iem_v05.fit'\n",
    "    if vfdm == 6:\n",
    "        path += 'gll_iem_v05_rev1.fit'\n",
    "    if vfdm == 7:\n",
    "        path += 'gll_iem_v06.fits'\n",
    "   \n",
    "    fluxcart = pf.getdata(path, 0) * 1e3 # [1/cm^2/s/sr/GeV]\n",
    "    enerfdfm = array(pf.getdata(path, 1).tolist()).flatten() * 1e-3 # [GeV]\n",
    "    fdfmheal = zeros((enerfdfm.size, numbpixl))\n",
    "    for i in range(enerfdfm.size):\n",
    "        fdfmheal[i, :] = cart_heal(fliplr(fluxcart[i, :, :]), numbside=numbside)\n",
    "        \n",
    "    \n",
    "    fdfm = empty((numbener, numbpixl))\n",
    "    numbsampbins = 10\n",
    "    enersamp = logspace(log10(amin(binsener)), log10(amax(binsener)), numbsampbins * numbener)\n",
    "    fdfmheal = interpolate.interp1d(enerfdfm, fdfmheal, axis=0)(enersamp)\n",
    "    for i in range(numbener):\n",
    "        fdfm[i, :] = trapz(fdfmheal[i*numbsampbins:(i+1)*numbsampbins, :], \\\n",
    "                           enersamp[i*numbsampbins:(i+1)*numbsampbins], axis=0) / diffener[i]\n",
    "\n",
    "\n",
    "    return fdfm"
   ]
  },
  {
   "cell_type": "code",
   "execution_count": 11,
   "metadata": {
    "collapsed": false
   },
   "outputs": [],
   "source": [
    "def plot_braz(ax, xdat, ydat, numbsampdraw=0, lcol='yellow', dcol='green', mcol='black', labl=None, alpha=None):\n",
    "\n",
    "    if numbsampdraw > 0:\n",
    "        jsampdraw = choice(arange(ydat.shape[0]), size=numbsampdraw)\n",
    "        axis.plot(xdat, ydat[jsampdraw[0], :], alpha=0.1, color='b', label='Samples')\n",
    "        for k in range(1, numbsampdraw):\n",
    "            axis.plot(xdat, ydat[jsampdraw[k], :], alpha=0.1, color='b')\n",
    "    axis.plot(xdat, percentile(ydat, 2.5, 0), color=lcol, alpha=alpha)\n",
    "    axis.plot(xdat, percentile(ydat, 16., 0), color=dcol, alpha=alpha)\n",
    "    axis.plot(xdat, percentile(ydat, 84., 0), color=dcol, alpha=alpha)\n",
    "    axis.plot(xdat, percentile(ydat, 97.5, 0), color=lcol, alpha=alpha)\n",
    "    axis.plot(xdat, percentile(ydat, 50., 0), color=mcol, label=labl, alpha=alpha)\n",
    "    axis.fill_between(xdat, percentile(ydat, 2.5, 0), percentile(ydat, 97.5, 0), color=lcol, alpha=alpha)#, label='95% C.L.')\n",
    "    axis.fill_between(xdat, percentile(ydat, 16., 0), percentile(ydat, 84., 0), color=dcol, alpha=alpha)#, label='68% C.L.')\n",
    "    "
   ]
  },
  {
   "cell_type": "code",
   "execution_count": null,
   "metadata": {
    "collapsed": false
   },
   "outputs": [],
   "source": []
  }
 ],
 "metadata": {
  "kernelspec": {
   "display_name": "Python 2",
   "language": "python",
   "name": "python2"
  },
  "language_info": {
   "codemirror_mode": {
    "name": "ipython",
    "version": 2
   },
   "file_extension": ".py",
   "mimetype": "text/x-python",
   "name": "python",
   "nbconvert_exporter": "python",
   "pygments_lexer": "ipython2",
   "version": "2.7.10"
  }
 },
 "nbformat": 4,
 "nbformat_minor": 0
}

{
 "cells": [
  {
   "cell_type": "code",
   "execution_count": 10,
   "id": "1db1cb97",
   "metadata": {
    "scrolled": false
   },
   "outputs": [],
   "source": [
    "%matplotlib inline\n",
    "\n",
    "import tdpy\n",
    "import numpy as np\n",
    "\n",
    "# Sampling from a bounded power-law probability distribution with an arbitary slope\n",
    "## number of samples\n",
    "n_samples = 10000\n",
    "\n",
    "\n",
    "## label for the plotted parameter and its unit\n",
    "label = ['$\\log_{10} x$', '']"
   ]
  },
  {
   "cell_type": "code",
   "execution_count": 11,
   "id": "af316bed",
   "metadata": {},
   "outputs": [
    {
     "data": {
      "image/png": "[encoded data removed]",
      "text/plain": [
       "<Figure size 252x252 with 1 Axes>"
      ]
     },
     "metadata": {
      "needs_background": "light"
     },
     "output_type": "display_data"
    }
   ],
   "source": [
    "## minimum of the parameter\n",
    "minimum = 0.1\n",
    "\n",
    "## maximum of the parameter\n",
    "maximum = 10.\n",
    "\n",
    "## negative slope of the parameter\n",
    "slope = -2.\n",
    "\n",
    "\n",
    "# sample from the power law\n",
    "x = tdpy.samp_powr(n_samples, minimum, maximum, slope)\n",
    "\n",
    "# plot the samples\n",
    "tdpy.plot_grid(label, listpara=np.log10(x), plotsize=3.5)"
   ]
  },
  {
   "cell_type": "code",
   "execution_count": null,
   "id": "e606765e",
   "metadata": {},
   "outputs": [],
   "source": [
    "## minimum of the parameter\n",
    "minimum = 0.1\n",
    "\n",
    "## maximum of the parameter\n",
    "maximum = 10.\n",
    "\n",
    "## negative slope of the parameter\n",
    "slope_rise = 2.\n",
    "\n",
    "## negative slope of the parameter\n",
    "slope_fall = -2.\n",
    "\n",
    "# sample from the power law\n",
    "x = tdpy.samp_dpow(n_samples, x_break, slope_rise, slope_fall)\n",
    "\n",
    "# plot the samples\n",
    "tdpy.plot_grid(label, listpara=np.log10(x), plotsize=3.5)\n",
    "\n",
    "\n",
    "\n",
    "# sample from the power law\n",
    "x = tdpy.samp_dpow(n_samples, x_break, slope_rise, slope_fall, minm=minimum, maxm=maximum)\n",
    "\n",
    "# plot the samples\n",
    "tdpy.plot_grid(label, listpara=np.log10(x), plotsize=3.5)"
   ]
  }
 ],
 "metadata": {
  "kernelspec": {
   "display_name": "Python 3",
   "language": "python",
   "name": "python3"
  },
  "language_info": {
   "codemirror_mode": {
    "name": "ipython",
    "version": 3
   },
   "file_extension": ".py",
   "mimetype": "text/x-python",
   "name": "python",
   "nbconvert_exporter": "python",
   "pygments_lexer": "ipython3",
   "version": "3.7.1"
  }
 },
 "nbformat": 4,
 "nbformat_minor": 5
}

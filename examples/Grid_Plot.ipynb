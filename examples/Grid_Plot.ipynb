{
 "cells": [
  {
   "cell_type": "code",
   "execution_count": 1,
   "id": "f8b0020f",
   "metadata": {
    "scrolled": true
   },
   "outputs": [
    {
     "name": "stdout",
     "output_type": "stream",
     "text": [
      "Number of samples in the populations:\n",
      "Negative\n",
      "100\n",
      "Positive\n",
      "10000\n"
     ]
    }
   ],
   "source": [
    "%matplotlib inline\n",
    "\n",
    "import numpy as np\n",
    "import tdpy\n",
    "\n",
    "# labels of the populations\n",
    "listlablpopl = ['Positive', 'Negative']\n",
    "\n",
    "# number of populations\n",
    "numbpopl = len(listlablpopl)\n",
    "\n",
    "# number of samples for each population\n",
    "numbsamp = [100, 10000]\n",
    "\n",
    "# number of features\n",
    "numbfeat = 5\n",
    "\n",
    "# generate samples\n",
    "listpara = [[] for k in range(numbpopl)]\n",
    "for k in range(numbpopl):\n",
    "\n",
    "    # number of points\n",
    "    numbdata = numbfeat * numbsamp[k]\n",
    "    \n",
    "    # samples\n",
    "    listpara[k] = np.random.randn(numbdata).reshape((numbsamp[k], numbfeat)) + 5. * np.random.randn(numbfeat)[None, :]\n",
    "\n",
    "# labels of the parameters\n",
    "listlablpara = []\n",
    "for k in range(numbfeat):\n",
    "    listlablpara.append(['$p_{%d}$' % k, ''])\n",
    "\n",
    "typepgrp = 'both'\n",
    "    \n",
    "tdpy.plot_grid(listlablpara, listpara, listlablpopl=listlablpopl, typepgrp=typepgrp)"
   ]
  },
  {
   "cell_type": "markdown",
   "id": "1ef18e31",
   "metadata": {},
   "source": [
    "Saving the output to disk."
   ]
  },
  {
   "cell_type": "code",
   "execution_count": 2,
   "id": "09effc2c",
   "metadata": {},
   "outputs": [
    {
     "ename": "TypeError",
     "evalue": "plot_grid() got an unexpected keyword argument 'strgplot'",
     "output_type": "error",
     "traceback": [
      "\u001b[0;31m---------------------------------------------------------------------------\u001b[0m",
      "\u001b[0;31mTypeError\u001b[0m                                 Traceback (most recent call last)",
      "\u001b[0;32m<ipython-input-2-70d1017a4cd1>\u001b[0m in \u001b[0;36m<module>\u001b[0;34m\u001b[0m\n\u001b[1;32m      6\u001b[0m \u001b[0mstrgplot\u001b[0m \u001b[0;34m=\u001b[0m \u001b[0;34m'PositivesNegatives'\u001b[0m\u001b[0;34m\u001b[0m\u001b[0;34m\u001b[0m\u001b[0m\n\u001b[1;32m      7\u001b[0m \u001b[0;34m\u001b[0m\u001b[0m\n\u001b[0;32m----> 8\u001b[0;31m \u001b[0mtdpy\u001b[0m\u001b[0;34m.\u001b[0m\u001b[0mplot_grid\u001b[0m\u001b[0;34m(\u001b[0m\u001b[0mlistpara\u001b[0m\u001b[0;34m,\u001b[0m \u001b[0mlistlablpara\u001b[0m\u001b[0;34m,\u001b[0m \u001b[0mlistlablpopl\u001b[0m\u001b[0;34m=\u001b[0m\u001b[0mlistlablpopl\u001b[0m\u001b[0;34m,\u001b[0m \u001b[0mpathbase\u001b[0m\u001b[0;34m=\u001b[0m\u001b[0mpathbase\u001b[0m\u001b[0;34m,\u001b[0m \u001b[0mstrgplot\u001b[0m\u001b[0;34m=\u001b[0m\u001b[0mstrgplot\u001b[0m\u001b[0;34m)\u001b[0m\u001b[0;34m\u001b[0m\u001b[0;34m\u001b[0m\u001b[0m\n\u001b[0m",
      "\u001b[0;31mTypeError\u001b[0m: plot_grid() got an unexpected keyword argument 'strgplot'"
     ]
    }
   ],
   "source": [
    "import os\n",
    "\n",
    "pathbase = os.environ['TDPY_PATH'] + '/visuals/grid_plot/'\n",
    "os.system('mkdir -p %s' % pathbase)\n",
    "\n",
    "strgplot = 'PositivesNegatives'\n",
    "\n",
    "tdpy.plot_grid(listpara, listlablpara, listlablpopl=listlablpopl, pathbase=pathbase, strgplot=strgplot)"
   ]
  },
  {
   "cell_type": "code",
   "execution_count": null,
   "id": "375ff7fd",
   "metadata": {},
   "outputs": [],
   "source": []
  }
 ],
 "metadata": {
  "kernelspec": {
   "display_name": "Python 3",
   "language": "python",
   "name": "python3"
  },
  "language_info": {
   "codemirror_mode": {
    "name": "ipython",
    "version": 3
   },
   "file_extension": ".py",
   "mimetype": "text/x-python",
   "name": "python",
   "nbconvert_exporter": "python",
   "pygments_lexer": "ipython3",
   "version": "3.7.1"
  }
 },
 "nbformat": 4,
 "nbformat_minor": 5
}
